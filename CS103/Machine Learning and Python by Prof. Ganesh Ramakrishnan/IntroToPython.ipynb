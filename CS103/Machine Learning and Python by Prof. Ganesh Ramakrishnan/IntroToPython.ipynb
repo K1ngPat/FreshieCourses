{
  "nbformat": 4,
  "nbformat_minor": 0,
  "metadata": {
    "colab": {
      "provenance": []
    },
    "kernelspec": {
      "name": "python3",
      "display_name": "Python 3"
    }
  },
  "cells": [
    {
      "cell_type": "markdown",
      "metadata": {
        "id": "RsQFx2aTFoxW"
      },
      "source": [
        "# **APPLIED PYTHON 101**\n",
        "\n",
        "\n",
        "---\n",
        "\n",
        "## Context\n",
        "\n",
        "The goal of that program is to teach to **_data story telling_** in context.\n",
        "\n",
        "---\n",
        "\n",
        "## Objectives\n",
        "The main goal of this notebook is to extend and apply concepts covered in the prerequisite [Kaggle Python tutorial](https://www.kaggle.com/learn/python). If you have prior experience coding in Python, then you can skip straight to the exercises in **Part B**. If you are less familiar Python, we strongly suggest exploring each section below and running the provided example code blocks. **Focus on understanding why each line of code works and how the output can be changed**: you can add a new block using the \"+ Code\" button to test your own modifications.  \n",
        "\n",
        "**Learning to code in Python is similar to learning to speak a new language. It will take time and hands-on practice.** Googling unknown terms and phrases is a useful strategy to help you quickly find answers and debug errors. Sites like [StackOverflow](https://stackoverflow.com/), [Towards Data Science](https://towardsdatascience.com/), and [Kaggle](https://www.kaggle.com/) usually have high-quality posts and troubleshooting suggestions, especially related to data analysis and machine learning applications.\n",
        "\n",
        "Additionally, **We strongly encourage you to use the pertinent Moodle pages to discuss problems and points of uncertainty**. If you're stuck on a problem, it's very likely that someone else in the course is having/had a similar issue.\n",
        "\n",
        "---\n",
        "\n",
        "**Note**: Additional (optional) background information is provided for you in the blue URLs.\n",
        "\n",
        "**Note**: Since you'll need to modify the code in this Colab Notebook, please make a copy of the Notebook for your use. Go to **File > Save a copy in Drive** and then work on that copy.\n",
        "\n",
        "---\n",
        "\n"
      ]
    },
    {
      "cell_type": "markdown",
      "metadata": {
        "id": "i6DFtUbaF6Et"
      },
      "source": [
        "# [S] Part A: Opening the black box: Data Structures to Functions\n",
        "## Motivating Question: What happens when we need to write our own code???\n",
        "Using pre-built packages is easy, but writing our own code from scratch can quickly become much more challenging. Here, we'll take a bottom up approach, starting with the primitive data structures and operators, then the built-in data structures, both of which form the foundation of Python code. This section is an application of the concepts covered in the Kaggle Python tutorial and requires a basic understanding of Python. Future modules will build upon the concepts highlighted here.\n",
        "\n",
        "\n",
        "---\n",
        "\n",
        "\n",
        "#### Organization of Python Code: Data Structures to Functions\n",
        "- Package or libraries\n",
        "- Modules\n",
        "- Classes\n",
        "- **Functions**: a reusable, modular workflow in Python code\n",
        "- **Scripts or code snippets**: single-use, simple code or code fragments\n",
        "- **Data Structures**\n",
        "  - **Primitive**\n",
        "  - **Non-primitive**\n",
        "\n",
        "\n",
        "---\n",
        "\n",
        "**Note**: Machine Learning requires humans (i.e. specifically us as data analysts) to **translate human-understandable data**, like words, images, and audio, **into machine-understandable formats**, such as data structures, numbers, and network graphs. This notebook focuses on several basic data transformations and manipulations that can occur in Python."
      ]
    },
    {
      "cell_type": "markdown",
      "metadata": {
        "id": "MTlom7srbPbI"
      },
      "source": [
        "## A.1 Quick Python review:\n",
        "\n",
        "You are probably familiar with the primitive data structures from R, which are very similar to the Python primitives:\n",
        "* integers\n",
        "* floats\n",
        "* strings\n",
        "* Boolean (`True` and `False`)\n",
        "* Special case: `None`\n",
        "\n"
      ]
    },
    {
      "cell_type": "code",
      "source": [
        "# Integers\n",
        "4\n",
        "4376\n",
        "\n",
        "# Floating-point numbers\n",
        "0.34\n",
        "1.1352476\n",
        "10.0\n",
        "\n",
        "# Strings\n",
        "'Blood pressure (BP) is the pressure exercised by circulating blood against the walls of blood vessels.'\n",
        "'a'\n",
        "'The minimum pressure  for an adult between two heartbeats (diastolic pressure) is normally 80 millimeters of mercury (mmHg) above the surrounding atmospheric'\n",
        "'120'\n",
        "\n",
        "# Boolean\n",
        "True\n",
        "False\n",
        "\n",
        "# Special Case\n",
        "None"
      ],
      "metadata": {
        "id": "4tFrwJCTlti-"
      },
      "execution_count": null,
      "outputs": []
    },
    {
      "cell_type": "markdown",
      "source": [],
      "metadata": {
        "id": "oVly10vxb0aE"
      }
    },
    {
      "cell_type": "markdown",
      "metadata": {
        "id": "K_vvCeikesaj"
      },
      "source": [
        "### A.1a Type Casting\n",
        "\n",
        "We can convert between some data representations using type casting. Check the data type using the function `type()`.\n",
        "\n",
        "**Note**: Excel data is notorious for mixing numerics and strings, which needs to be resolved prior to analysis."
      ]
    },
    {
      "cell_type": "code",
      "metadata": {
        "id": "nofqdro_Gi7G",
        "colab": {
          "base_uri": "https://localhost:8080/"
        },
        "outputId": "4f4091eb-9aee-4a40-900f-41e86d7e2f96"
      },
      "source": [
        "# Normal BP is considered to be 127/79 mmHg in men and 122/77 mmHg in women\n",
        "\n",
        "x = 127\n",
        "y = int('122')\n",
        "\n",
        "print(x, type(x))\n",
        "print(y, type(y))\n",
        "\n",
        "# Currently, Line 9 throws an error. Use type casting in Line 9 to resolve the\n",
        "# conflict; there are 2 expected answers: (1) 123123 and (2) 246.\n",
        "z = (x + y)/2           #Desire to compute the average BP across men and women\n",
        "print(z, type(z))\n",
        "\n",
        "class percentage_hg():\n",
        "  def __init__(self,hg_value,name):\n",
        "    self.hg_value=hg_value\n",
        "    self.name = name\n",
        "  def to_decimal():\n",
        "    return hg_value/100\n",
        "  #Function that adds an external decimal hg value to this class's percentage hg value\n",
        "  def add_float_to_me(float_val):\n",
        "    return float_val*100 + self.hg_value\n",
        "  #Function that adds an external percentage hg value to this class's percentage hg value\n",
        "  def add_percentage(percentage_hg):\n",
        "    return percentage_hg + self.hg_value\n",
        "\n",
        "#An object instance of a class\n",
        "my_hg = percentage_hg(z,'Ganesh Ramakrishna')"
      ],
      "execution_count": null,
      "outputs": [
        {
          "output_type": "stream",
          "name": "stdout",
          "text": [
            "127 <class 'int'>\n",
            "122 <class 'int'>\n",
            "124.5 <class 'float'>\n"
          ]
        }
      ]
    },
    {
      "cell_type": "markdown",
      "metadata": {
        "id": "jt3o9HXOOGus"
      },
      "source": [
        "### A.1b Operators\n",
        "\n",
        "Basic Python operators fall into 7 categories:\n",
        "\n",
        "* Arithmetic Operators - `+`, `-`, etc.\n",
        "* Relational Operators - `!=` \"is not equal\", `==` \"is equal\", `<`, `<=`, etc.\n",
        "* Assignment Operators - `=`\n",
        "* Logical Operators - `and`, `or` are used to combine relational operations\n",
        "* Membership Operators - `in`, `not in` are used to check if A is in B\n",
        "* Identity Operators - `is`, `is not` checks if A and B are the same object\n",
        "* Bitwise Operators - (outside the scope of this course)\n",
        "\n",
        "\n",
        "---\n",
        "\n",
        "Python also uses a shortcut to perform arithmetic and assigment operations in one step, since this is a very common action when coding.\n",
        "\n",
        "\n",
        "\n",
        "![picture](https://drive.google.com/uc?id=16SFddjb55H_ugjkVvtcqASDsqxI1i_Up)"
      ]
    },
    {
      "cell_type": "code",
      "source": [
        "# Expressions are a combination of variables, values, and operators that can be\n",
        "# evaluated as a single value.\n",
        "# For example, BMI computation required squared of height in the denominator.\n",
        "# Most babies born between 37 and 40 weeks weigh somewhere between 2.5 kg and 4 kg and have height between 0.4 and 0.5 meter\n",
        "\n",
        "0.4**2      #Square of height\n",
        "True and False\n",
        "'kilogram' + 'gram' #might not match what you intend to do though!\n",
        "2.5/(0.4**2) + 4/(0.5**2) #Average BMI across the newborn babies between 37 and 40 weeks\n",
        "\n",
        "# Statements do something (e.g. assign the value of an expression to a variable)\n",
        "import math\n",
        "result = 12<<2   #Padding two zeros (through bit shift operations) to the right of the binary representation of the number 3\n",
        "print(result)   #This should amount to multiplication of the original number (12) by 4\n"
      ],
      "metadata": {
        "id": "NoidHLe2l_h7",
        "colab": {
          "base_uri": "https://localhost:8080/"
        },
        "outputId": "a23564be-836a-4f6f-8e62-060abb909512"
      },
      "execution_count": null,
      "outputs": [
        {
          "output_type": "stream",
          "name": "stdout",
          "text": [
            "48\n"
          ]
        }
      ]
    },
    {
      "cell_type": "code",
      "metadata": {
        "id": "GO5KAVNxTknG",
        "colab": {
          "base_uri": "https://localhost:8080/"
        },
        "outputId": "1178f7ee-a861-46ea-8d03-97a4b1457ef2"
      },
      "source": [
        "import math\n",
        "\n",
        "# Assignment statements link a variable to a Python object using `=`.\n",
        "# Nearly everything in Python is an object.\n",
        "child_count = 5\n",
        "topic_name = 'Health Informatics!'\n",
        "baby_weight_in_pounds = 2.20462 * 2.5 #2.5 kg in pounds\n",
        "(1/3) * math.pi * (0.5)**3  #Volume of the ventilator to accommodate a new botn infant.\n",
        "normalBP = True\n",
        "\n",
        "# Special case: when basic arithmetic is used to modify the value of a variable\n",
        "# and then assign the new value to the original variable\n",
        "child_count = child_count + 1\n",
        "\n",
        "# This operation can also be written using the following shortcut\n",
        "child_count += 1\n",
        "\n",
        "# Why does child_count = 7?\n",
        "child_count\n",
        "\n"
      ],
      "execution_count": null,
      "outputs": [
        {
          "output_type": "execute_result",
          "data": {
            "text/plain": [
              "7"
            ]
          },
          "metadata": {},
          "execution_count": 4
        }
      ]
    },
    {
      "cell_type": "markdown",
      "metadata": {
        "id": "2FvKbknqGXNR"
      },
      "source": [
        "It's very important to understand the difference between the identity operator `is` and the relational operator `==`. **They are different operations and using them incorrectly can lead to subtle, erroneous outputs in your analyses.**\n",
        "\n",
        "* `is` returns `True` if two variables refer to the same object (stored in memory).\n",
        "* `==` returns `True` if the objects referred to by the variables are equivalent in value."
      ]
    },
    {
      "cell_type": "code",
      "metadata": {
        "colab": {
          "base_uri": "https://localhost:8080/"
        },
        "id": "Q4wibmMwF6c9",
        "outputId": "463f79c2-facf-417f-a34e-899dd01f8098"
      },
      "source": [
        "from copy import copy\n",
        "\n",
        "# Here, both `heights` and `heights_new` point to same object in memory --> the list [0.42, 0.45, 0.47]\n",
        "heights = [0.42, 0.45, 0.47]\n",
        "heights_new = heights\n",
        "\n",
        "print(heights_new is heights )  # `heights` and `heights_new` refer to the same object?\n",
        "print(heights_new == heights)   # `heights` and `heights_new` have the same values?\n",
        "\n",
        "# Because `heights` and `heights_new` both refer to the same list, changes to one affect the other\n",
        "heights[0] = 'Oops we overwrote the original data'\n",
        "\n",
        "print(f'\\nWe made a change to heights: {heights}')\n",
        "print(f'But the changes also affect heights_new: {heights_new}')\n",
        "print('because they refer to the same object in memory.\\n')\n",
        "\n",
        "\n",
        "\n"
      ],
      "execution_count": null,
      "outputs": [
        {
          "output_type": "stream",
          "name": "stdout",
          "text": [
            "True\n",
            "True\n",
            "\n",
            "We made a change to heights: ['Oops we overwrote the original data', 0.45, 0.47]\n",
            "But the changes also affect heights_new: ['Oops we overwrote the original data', 0.45, 0.47]\n",
            "because they refer to the same object in memory.\n",
            "\n"
          ]
        }
      ]
    },
    {
      "cell_type": "code",
      "source": [
        "# Now, we make a copy of `heights` and assign it to `heights_new`.\n",
        "# Keep in mind that we need 2x memory because there are 2 separate objects\n",
        "heights = [0.42, 0.45, 0.47]\n",
        "heights_new = copy(heights)\n",
        "\n",
        "print(heights_new is heights)  # `heights_new` is NOT the same object as `heights`\n",
        "print(heights_new == heights)  # `heights_new` has the same values as `heights`\n",
        "\n",
        "# Since `heights` and `heights_new` refer to different objects...\n",
        "heights[0] = 'Oops we overwrote the original data'\n",
        "#We modified only the original and not the copy\n",
        "print(f'\\nWe made a change to a: {heights}')  #https://www.w3schools.com/python/python_string_formatting.asp for more on formatted printing\n",
        "print(f'This does NOT affect heights_new: {heights_new}')\n",
        "print('because they refer to 2 different objects in memory.')\n"
      ],
      "metadata": {
        "id": "GF-fjK1xiH8i",
        "colab": {
          "base_uri": "https://localhost:8080/"
        },
        "outputId": "790dfbea-0a91-4c60-ba8b-16cf0b096a44"
      },
      "execution_count": null,
      "outputs": [
        {
          "output_type": "stream",
          "name": "stdout",
          "text": [
            "False\n",
            "True\n",
            "\n",
            "We made a change to a: ['Oops we overwrote the original data', 0.45, 0.47]\n",
            "This does NOT affect heights_new: [0.42, 0.45, 0.47]\n",
            "because they refer to 2 different objects in memory.\n"
          ]
        }
      ]
    },
    {
      "cell_type": "markdown",
      "metadata": {
        "id": "Trc3PclKDXiq"
      },
      "source": [
        "### A.1c Membership Operators\n",
        "\n",
        "Recall that the membership operator `in` allows us to quickly check if an element is in a collection. List comprehension allows you to use a shorter syntax when you want to create a new list based on the values of an existing list depending on a specific condition. These two concepts can be combined into an efficient method for filtering or creating a new collection. You can use the same approach for Strings, Sets, and Dictionaries."
      ]
    },
    {
      "cell_type": "code",
      "metadata": {
        "colab": {
          "base_uri": "https://localhost:8080/"
        },
        "id": "kB4TcrcKDEPg",
        "outputId": "946e436a-da8f-452d-f71c-6d4d8e15a4b3"
      },
      "source": [
        "# To quickly check if an object is present in a collection, use the membership\n",
        "# operator 'in'. As a conditional expression, this is formatted as `<part> in <whole>`\n",
        "# and evalutes to either TRUE or FALSE\n",
        "\n",
        "list1 = [0, 1, 2, 3, 4, 3, 2, 1, 0]\n",
        "print(3 in list1)\n",
        "\n",
        "name = 'bronchiolitis obliterans'\n",
        "search_term = 'obliterans'\n",
        "print(search_term in name)\n",
        "\n"
      ],
      "execution_count": null,
      "outputs": [
        {
          "output_type": "stream",
          "name": "stdout",
          "text": [
            "True\n",
            "True\n"
          ]
        }
      ]
    },
    {
      "cell_type": "code",
      "source": [],
      "metadata": {
        "id": "9BFiUoYP-BBv"
      },
      "execution_count": null,
      "outputs": []
    },
    {
      "cell_type": "code",
      "metadata": {
        "colab": {
          "base_uri": "https://localhost:8080/"
        },
        "outputId": "b2d9e45e-f37e-48be-9e07-31a093c8a083",
        "id": "ln4foKwy-BNp"
      },
      "source": [
        "# To quickly check if an object is present in a collection, use the membership\n",
        "# operator 'in'. As a conditional expression, this is formatted as `<part> in <whole>`\n",
        "# and evalutes to either TRUE or FALSE\n",
        "\n",
        "list1 = ['patient', 'node', 'x_coord', 'y_coord', 'tumor', 'slide', 'center', 'split']\n",
        "print('patient' in list1) #checking if 'patient' is indeed an atreibute in the list of attributes of Camelyon WILDs challenge\n",
        "\n",
        "name = 'Applied Machine Learning'\n",
        "search_term = 'Machine'\n",
        "print(search_term in name)\n",
        "\n"
      ],
      "execution_count": null,
      "outputs": [
        {
          "output_type": "stream",
          "name": "stdout",
          "text": [
            "True\n",
            "True\n"
          ]
        }
      ]
    },
    {
      "cell_type": "markdown",
      "metadata": {
        "id": "OMewAqH-Oql5"
      },
      "source": [
        "### A.1d Chaining and Relational Operators\n"
      ]
    },
    {
      "cell_type": "code",
      "metadata": {
        "colab": {
          "base_uri": "https://localhost:8080/"
        },
        "id": "NZp12iTcOrMb",
        "outputId": "20ac6171-73ee-454e-9cc4-06899d70488a"
      },
      "source": [
        "n = 100\n",
        "\n",
        "# The comparison in Line 4...\n",
        "result1 = 1 < n and n < 200\n",
        "\n",
        "# Is the same as the comparison in Line 7.\n",
        "result2 = 1 < n < 200\n",
        "\n",
        "print(f'Line 4 evaluates to {result1}, and Line 7 evaluates to {result2}')\n",
        "\n"
      ],
      "execution_count": null,
      "outputs": [
        {
          "output_type": "stream",
          "name": "stdout",
          "text": [
            "Line 4 evaluates to True, and Line 7 evaluates to True\n"
          ]
        }
      ]
    },
    {
      "cell_type": "markdown",
      "metadata": {
        "id": "uEfTSRDY1Pr0"
      },
      "source": [
        "## A.2 Control or Logic Flow in Python code"
      ]
    },
    {
      "cell_type": "markdown",
      "metadata": {
        "id": "hVVyvE6D1bI8"
      },
      "source": [
        "### A.2a Review - IF/ELSE, WHILE, and FOR loops\n",
        "\n",
        "Python is an interpreted programming language. The code is executed sequentially line by line. However, there are control structures that can cause the Python interpreter to skip or repeat parts (AKA blocks) of code. The most common ones are `if/else` statements, `while` loops, and `for` loops.\n",
        "\n",
        "Let's use `if/else` as an example.\n",
        "\n",
        "* The first line always contains a comparison operation that evaulates to either `True` or `False`.\n",
        "* If `True`, the Python interpreter is directed to a new block of code (note the indentation!) and begins executing the new block. When it reaches the end of the new block, it returns to the next line in the original block.\n",
        "* If `False`, then the interpreter skips the indented block and continues executing the current block.\n",
        "\n",
        "Note: **Pay attention to the indentation of each line.** Blocks can be nested inside other blocks."
      ]
    },
    {
      "cell_type": "code",
      "source": [
        "from random import randint\n",
        "\n",
        "pid = 8\n",
        "opd = \"OPD1\"\n",
        "\n",
        "# If/Else Statement - careful with setting your condition: only 1 block will be\n",
        "# executed in an if/else\n",
        "if (pid % 2)==0:  #even pids go to OPD1\n",
        "    opd = \"OPD1\"\n",
        "else:\n",
        "    opd = \"OPD2\"\n",
        "\n",
        "print(f\"Since patiend id = {pid}: the patient can be routed to {opd}\")\n"
      ],
      "metadata": {
        "id": "xLhkk-7YmwvK",
        "colab": {
          "base_uri": "https://localhost:8080/"
        },
        "outputId": "c5464c39-4953-4d8b-c813-3d7a571772e7"
      },
      "execution_count": null,
      "outputs": [
        {
          "output_type": "stream",
          "name": "stdout",
          "text": [
            "Since patiend id = 8: the patient can be routed to OPD1\n"
          ]
        }
      ]
    },
    {
      "cell_type": "markdown",
      "source": [
        "Let's say we need to perform a task multiple times. Here, we can use `while` loops.\n",
        "\n",
        "* The first line always contains at least one comparison operation that evaulates to either `True` or `False`.\n",
        "* If `True`, the Python interpreter is directed to a new block of code (note the indentation!) and begins executing the new block. When it reaches the end of the new block, it jumps back to the first line and checks if the condition is still `TRUE`.\n",
        "* If `FALSE`, the interpreter skips the indented block and continues to the next line."
      ],
      "metadata": {
        "id": "jrfpU5wWm7WE"
      }
    },
    {
      "cell_type": "code",
      "source": [
        "from random import randint\n",
        "\n",
        "# While Loop - careful with setting your stop condition: infinite loops can run forever!\n",
        "id_1_to_swap = randint(20, 30)\n",
        "id_2_to_swap = 1\n",
        "\n",
        "#Decrease id1 in steps of 1 and increasing id2 in steps of 2 until they swap roles\n",
        "#With id1 ==0 OR id2 >= 21\n",
        "while id_1_to_swap > 0 and id_2_to_swap < 21:\n",
        "    print(id_1_to_swap, id_2_to_swap)\n",
        "    id_1_to_swap -= 1  # Here, we decrease id_1_to_swap by 1\n",
        "    id_2_to_swap += 2  # Here, we increase id_2_to_swap by 2\n",
        "\n",
        "print('We have exited the While loop!')"
      ],
      "metadata": {
        "colab": {
          "base_uri": "https://localhost:8080/"
        },
        "id": "FFN9fqeTm4Sn",
        "outputId": "54087ad7-2ada-437b-de3e-75cdded3e8da"
      },
      "execution_count": null,
      "outputs": [
        {
          "output_type": "stream",
          "name": "stdout",
          "text": [
            "24 1\n",
            "23 3\n",
            "22 5\n",
            "21 7\n",
            "20 9\n",
            "19 11\n",
            "18 13\n",
            "17 15\n",
            "16 17\n",
            "15 19\n",
            "We have exited the While loop!\n"
          ]
        }
      ]
    },
    {
      "cell_type": "markdown",
      "source": [
        "`For` loops work in a similar fashion; however, they only loop a specified number of times rather than checking for a condition.\n",
        "\n",
        "* The first line specifies the number of times, usually by setting a range using the format `(start value, stop value, step size)`.\n",
        "* The stopping point is EXCLUDED.\n",
        "* If the step size isn't specified, a default value of 1 is used.\n",
        "\n",
        "For example, `range(5, 10)` would start at 5, increment by 1, and stop after reaching 9."
      ],
      "metadata": {
        "id": "JJI-so2uoVyt"
      }
    },
    {
      "cell_type": "code",
      "source": [
        "# For Loop - no conditional, will always enter the indented code block\n",
        "#If start value is unspecified, the default is 0\n",
        "for patient_id in range(7):\n",
        "    print(patient_id)\n",
        "\n",
        "# What happens if you don't specify the starting value?\n",
        "\n",
        "\n",
        "\n"
      ],
      "metadata": {
        "colab": {
          "base_uri": "https://localhost:8080/"
        },
        "id": "oRLGT8KNoUBU",
        "outputId": "a7a860cc-ecb7-4011-8af9-5b8c238691c0"
      },
      "execution_count": null,
      "outputs": [
        {
          "output_type": "stream",
          "name": "stdout",
          "text": [
            "0\n",
            "1\n",
            "2\n",
            "3\n",
            "4\n",
            "5\n",
            "6\n"
          ]
        }
      ]
    },
    {
      "cell_type": "markdown",
      "source": [
        "`For` loops can also be formated as:\n",
        "\n",
        "for `my_variable_name` in `my_data_structure`"
      ],
      "metadata": {
        "id": "F-8jvX9_tVkG"
      }
    },
    {
      "cell_type": "code",
      "source": [
        "# For loops can also be used to iterate through a collection of Python objects\n",
        "assorted = ['dermatology', 'epidermis', 'hypodermic', 'xeroderma',   # Here, we use a Python data structure called a `list`\n",
        "           'Diabetes', '200 mg/dL or above', 'Prediabetes',         # The list can have mix of strings and numbers\n",
        "           140, '140 – 199 mg/dL', 'Normal', '140 mg/dL or below']       # mg/dL (MG/DL) stands for milligrams per deciliter, the concentration of glucose in blood\n",
        "\n",
        "\n",
        "for elem in assorted:  # Each object in the list is temporarily assigned to the variable `x`\n",
        "    print(elem)       # Which allows us to \"do something\" with x inside the FOR loop\n"
      ],
      "metadata": {
        "colab": {
          "base_uri": "https://localhost:8080/"
        },
        "id": "kW6RwgDNqKSZ",
        "outputId": "0291d730-740e-4159-b2f8-c12bb50239cf"
      },
      "execution_count": null,
      "outputs": [
        {
          "output_type": "stream",
          "name": "stdout",
          "text": [
            "dermatology\n",
            "epidermis\n",
            "hypodermic\n",
            "xeroderma\n",
            "Diabetes\n",
            "200 mg/dL or above\n",
            "Prediabetes\n",
            "140\n",
            "140 – 199 mg/dL\n",
            "Normal\n",
            "140 mg/dL or below\n"
          ]
        }
      ]
    },
    {
      "cell_type": "code",
      "metadata": {
        "colab": {
          "base_uri": "https://localhost:8080/"
        },
        "id": "8TlLTuQf1iJx",
        "outputId": "84606ebc-a724-483b-e261-55862489e351"
      },
      "source": [
        "# This is a code snippet with 3 levels of indentation and 2 loops:\n",
        "# - WHILE block\n",
        "# - FOR block\n",
        "# - IF block\n",
        "# - ELIF block\n",
        "# - ELSE block\n",
        "\n",
        "x = 6\n",
        "print(f\"x = {x}: before WHILE\\n\")\n",
        "\n",
        "while x > 0:\n",
        "    #Range is being determined dynamically based on value of x\n",
        "    for i in range(x):\n",
        "        if i > 3:\n",
        "            print(f\"x = {x}, i = {i}: IF block\")\n",
        "        elif i <= 3 and i > 1:\n",
        "            print(f\"x = {x}, i = {i}:   ELIF block\")\n",
        "        else:\n",
        "            print(f\"x = {x}, i = {i}:       ELSE block\")\n",
        "    print()\n",
        "    x -= 2\n",
        "print(f\"x = {x}: after WHILE\\n\")\n",
        "\n",
        "# Can you trace the logic of each block?\n",
        "# What happens if you change the conditional expressions?"
      ],
      "execution_count": null,
      "outputs": [
        {
          "output_type": "stream",
          "name": "stdout",
          "text": [
            "x = 6: before WHILE\n",
            "\n",
            "x = 6, i = 0:       ELSE block\n",
            "x = 6, i = 1:       ELSE block\n",
            "x = 6, i = 2:   ELIF block\n",
            "x = 6, i = 3:   ELIF block\n",
            "x = 6, i = 4: IF block\n",
            "x = 6, i = 5: IF block\n",
            "\n",
            "x = 4, i = 0:       ELSE block\n",
            "x = 4, i = 1:       ELSE block\n",
            "x = 4, i = 2:   ELIF block\n",
            "x = 4, i = 3:   ELIF block\n",
            "\n",
            "x = 2, i = 0:       ELSE block\n",
            "x = 2, i = 1:       ELSE block\n",
            "\n",
            "x = 0: after WHILE\n",
            "\n"
          ]
        }
      ]
    },
    {
      "cell_type": "markdown",
      "metadata": {
        "id": "kjI9RULz2Dnp"
      },
      "source": [
        "### A.2b Functions\n",
        "\n",
        "A function is a block of code which only runs when it is called. You can pass data (known as parameters, arguments, or input) into a function, which can then transform or modify the data and return an output or result.\n",
        "\n",
        "This further complicates how code is evaluated. Normally, this occurs sequentially line by line. As we saw earlier, that sequential order can be modified by conditional loops and IF/ELSE blocks. Now, if a function call is present, that causes code evaluation to jump to the function before returning to the next sequential line.\n",
        "\n",
        "For example, see the code block below. Code evaluation always starts on Line 1. But when we reach the function call on Line 24, which calls `appointment_date()`, the Python interperter jumps to Line 5 and begins evaluating the code until Line 7, after which, it jumps back to finish Line 24.\n",
        "\n",
        "\n",
        "---\n",
        "\n",
        "\n",
        "**Note**: There are several conventional methods for organizing Python code. The following is a commonly used for shorter pieces of code, like scripts:\n",
        "1. Import statements\n",
        "2. Definitions for custom classes and functions\n",
        "3. Variable assignments\n",
        "4. The bulk of the code\n",
        "\n",
        "The main reason for this is to enable easy identification and access to the parts that you might change later on."
      ]
    },
    {
      "cell_type": "code",
      "metadata": {
        "id": "mynaHlQH2JOy",
        "colab": {
          "base_uri": "https://localhost:8080/"
        },
        "outputId": "14388f6c-6d2c-4831-bd67-caaed69935fa"
      },
      "source": [
        "# Import statements - usually doing this once per notebook is sufficient\n",
        "from random import randint\n",
        "\n",
        "cutf_off_date=10\n",
        "# Sometimes we need a custom function\n",
        "#This custom function filters appointments based on request date being <  cut_Off_date\n",
        "def appointment_date(request_date):\n",
        "    print('\\tIn the function:', request_date)\n",
        "    return request_date < cutf_off_date\n",
        "\n",
        "\n",
        "# Define our variables\n",
        "patient_names = ['Mr. Inder  Pawar', 'Mrs. Jamuna  Ranganathan', 'Ms. Anahita  Patil', 'Mr. Tathagata  Magar']\n",
        "request_dates = []\n",
        "\n",
        "# Generate our data\n",
        "for e in patient_names:\n",
        "    day = randint(1, 30)\n",
        "    request_dates.append(day)\n",
        "\n",
        "print(request_dates)\n",
        "\n",
        "# Apply our analysis\n",
        "for i, date in enumerate(request_dates):\n",
        "    print('For loop:', i)\n",
        "    if appointment_date(date):\n",
        "        print(patient_names[i], 'gets an appointment date.')\n",
        "    else:\n",
        "        print(patient_names[i], 'does not get an appointment date.')\n",
        "    print('\\tOut of the function:', date)\n",
        "\n",
        "# Note the use of comments to outline what you are doing. This helps:\n",
        "#   (1) plan out how to approach coding\n",
        "#   (2) documents what you've done for future reference\n"
      ],
      "execution_count": null,
      "outputs": [
        {
          "output_type": "stream",
          "name": "stdout",
          "text": [
            "[15, 1, 29, 18]\n",
            "For loop: 0\n",
            "\tIn the function: 15\n",
            "Mr. Inder  Pawar does not get an appointment date.\n",
            "\tOut of the function: 15\n",
            "For loop: 1\n",
            "\tIn the function: 1\n",
            "Mrs. Jamuna  Ranganathan gets an appointment date.\n",
            "\tOut of the function: 1\n",
            "For loop: 2\n",
            "\tIn the function: 29\n",
            "Ms. Anahita  Patil does not get an appointment date.\n",
            "\tOut of the function: 29\n",
            "For loop: 3\n",
            "\tIn the function: 18\n",
            "Mr. Tathagata  Magar does not get an appointment date.\n",
            "\tOut of the function: 18\n"
          ]
        }
      ]
    },
    {
      "cell_type": "markdown",
      "metadata": {
        "id": "QV6-q9zu2Ty5"
      },
      "source": [
        "### A.2c Variable Scope\n",
        "\n",
        "When is a variable accessible by the code? This is determined by its **scope**.\n",
        "\n",
        "\n",
        "*   Built-in\n",
        "    * This is the widest scope (i.e. they can be called anywhere in any program without needing to be defined).\n",
        "    * Examples: the Python keywords, such as `def`, `while`, `True`, etc.\n",
        "\n",
        "*   Global scope\n",
        "    * Can be explicitly set by the keyword `global`\n",
        "    * Variables defined outside of any functions is accessible from anywhere within the specific program that defined it.\n",
        "    * Examples: 'employees' and 'hired' are global variables\n",
        "\n",
        "*   Enclosing scope\n",
        "    * This is specific to nested functions, which are rare, complex cases and we will not cover this.\n",
        "\n",
        "*   Local scope\n",
        "    * Variables defined within a function\n",
        "    * Only accessible during a function call\n",
        "\n",
        "![picture](https://drive.google.com/uc?id=1HgXTUWyG0C6w8eR9izk1Qr80_PmqYS5I)"
      ]
    },
    {
      "cell_type": "code",
      "metadata": {
        "id": "74uwLc1I3ZFR",
        "colab": {
          "base_uri": "https://localhost:8080/"
        },
        "outputId": "cb2ba572-59d9-47f5-c470-26912e6a909f"
      },
      "source": [
        "# Import statements - usually doing this once per notebook is sufficient\n",
        "# Keywords like `import`, `def`, `class` are built-in\n",
        "from random import randint\n",
        "\n",
        "cutf_off_date=10  #Global\n",
        "# Sometimes we need a custom function\n",
        "def appointment_date(request_date):\n",
        "    start_date = 0  # This is a local variable\n",
        "    print('\\tIn the function:', request_date)\n",
        "    return request_date < cutf_off_date\n",
        "\n",
        "\n",
        "# Define our variables.\n",
        "# These are global variables\n",
        "patient_names = ['Mr. Inder  Pawar', 'Mrs. Jamuna  Ranganathan', 'Ms. Anahita  Patil', 'Mr. Tathagata  Magar']\n",
        "request_dates = []\n",
        "\n",
        "# Generate our data\n",
        "for e in patient_names:\n",
        "    day = randint(1, 30)  #day is within the scope of for block and local\n",
        "    request_dates.append(day)\n",
        "\n",
        "print(request_dates)\n",
        "\n",
        "\n",
        "# Apply our \"analysis\"\n",
        "for i, date in enumerate(request_dates):\n",
        "    print('For loop:', i)\n",
        "    print(patient_names[i], 'gets an appointment date.' if appointment_date(date) else 'does not get an appointment date.')\n",
        "    print('\\tOut of the function:', date)\n",
        "    print()\n",
        "\n",
        "# Remove the `#` from the beginning of Line 7.\n",
        "# What happens if you try to access the variable request_date outside of the function?\n",
        "# Can you access the variable `request_dates` inside the function?"
      ],
      "execution_count": null,
      "outputs": [
        {
          "output_type": "stream",
          "name": "stdout",
          "text": [
            "[20, 15, 23, 15]\n",
            "For loop: 0\n",
            "\tIn the function: 20\n",
            "Mr. Inder  Pawar does not get an appointment date.\n",
            "\tOut of the function: 20\n",
            "\n",
            "For loop: 1\n",
            "\tIn the function: 15\n",
            "Mrs. Jamuna  Ranganathan does not get an appointment date.\n",
            "\tOut of the function: 15\n",
            "\n",
            "For loop: 2\n",
            "\tIn the function: 23\n",
            "Ms. Anahita  Patil does not get an appointment date.\n",
            "\tOut of the function: 23\n",
            "\n",
            "For loop: 3\n",
            "\tIn the function: 15\n",
            "Mr. Tathagata  Magar does not get an appointment date.\n",
            "\tOut of the function: 15\n",
            "\n"
          ]
        }
      ]
    },
    {
      "cell_type": "markdown",
      "metadata": {
        "id": "g4kc00ZtrHZq"
      },
      "source": [
        "## Part B. Exercises with Non-primitive Data Structures\n",
        "\n",
        "**Note**: Stuck at any point? Look up the following resource [Lists, Tuples, Sets, Dictionaries](https://learning.oreilly.com/library/view/python-for-data/9781491957653/ch03.html#tut_data_structures).\n",
        "\n",
        "Also, one of the key strengths of Python is the ability to use dynamic typing to transform data from one data structure to a more useful data structure. What are the key characteristics, features, and functions associated with each data structure?"
      ]
    },
    {
      "cell_type": "markdown",
      "metadata": {
        "id": "OXllKSRRdABk"
      },
      "source": [
        "### B.1 Lists\n",
        "**Note**: Be familiar with slicing as this will be important for handling data in basic Python strings, NumPy arrays, and Pandas DataFrames in later modules.\n",
        "\n",
        "![picture](https://drive.google.com/uc?id=1BbZQMwTyp6kg_ISVAY5sPnRBKWfrlaAx)\n"
      ]
    },
    {
      "cell_type": "code",
      "metadata": {
        "id": "uakAmIqPc11S",
        "colab": {
          "base_uri": "https://localhost:8080/"
        },
        "outputId": "6b402ad6-792f-4359-86c5-99cb137a5e76"
      },
      "source": [
        "# A list is an ordered sequence of elements denoted by `[]`.\n",
        "opd_list = [3, 7, 12, 13, 14, 25, 36, 37, 48, 59]\n",
        "\n",
        "# We can access each element by its index, which starts at 0 -> n-1.\n",
        "var1 = opd_list[0]\n",
        "print(f'Using indexing (Line 5), the first element is {var1}\\n')\n",
        "\n",
        "\n",
        "# What about negative indexing?\n",
        "#Please note that while opd_list[::-1] traverses in the reverse order,\n",
        "#when there is a single argument, it is taken to be the index of the element\n",
        "#and element with index -1 would be the last element\n",
        "var2 = opd_list[-1]\n",
        "print(f'Using negative indexing (Line 10), the last element is {var2}\\n')\n",
        "\n",
        "\n",
        "# Slicing a list - Access a range of elements from [start : stop)\n",
        "# Note: slicing INCLUDES the start index but EXCLUDES the end index.\n",
        "slice1 = opd_list[2:5]\n",
        "print(f'We can isolate part of a list via slicing (Line 16): {slice1}\\n')\n",
        "\n",
        "\n",
        "# If the slice starts at Index 0, the start position can be implicit\n",
        "slice2 = opd_list[:5]  # equivalent to `list1[0:5]\n",
        "\n",
        "# If the slice ends with the last index, the end position can be implicit\n",
        "slice3 = opd_list[5:]  # equivalent to `list1[5:10]'\n",
        "\n",
        "print(f'In special cases, the start or end index can be implied: ')\n",
        "print(f'See Line 21 for {slice2} which spans Index 0 through 4, excluding the end at Index 5')\n",
        "print(f'and Line 24 for {slice3} which spans Index 5 through the end.\\n')\n",
        "\n"
      ],
      "execution_count": null,
      "outputs": [
        {
          "output_type": "stream",
          "name": "stdout",
          "text": [
            "Using indexing (Line 5), the first element is 3\n",
            "\n",
            "Using negative indexing (Line 10), the last element is 59\n",
            "\n",
            "We can isolate part of a list via slicing (Line 16): [12, 13, 14]\n",
            "\n",
            "In special cases, the start or end index can be implied: \n",
            "See Line 21 for [3, 7, 12, 13, 14] which spans Index 0 through 4, excluding the end at Index 5\n",
            "and Line 24 for [25, 36, 37, 48, 59] which spans Index 5 through the end.\n",
            "\n"
          ]
        }
      ]
    },
    {
      "cell_type": "code",
      "metadata": {
        "colab": {
          "base_uri": "https://localhost:8080/"
        },
        "id": "dSprLdWXUzdz",
        "outputId": "13053838-c02c-4f5c-a766-448182eb20b3"
      },
      "source": [
        "opd_list = [3, 7, 12, 13, 14, 25, 36, 37, 48, 59]\n",
        "\n",
        "# Slicing actually has a third value (step size), formatted [start : stop : step]\n",
        "print('To skip every other value:')\n",
        "skip_even = opd_list[::2]\n",
        "print(skip_even)\n",
        "\n",
        "\n",
        "# Using list1, how would you skip the odd indices?\n",
        "print('\\nWhat if we want the values in the even indices:')\n",
        "\n",
        "skip_odd = opd_list[1:-1:2]  # Modify this line\n",
        "print(skip_odd)\n",
        "\n",
        "\n",
        "# Negative indexing can be used to reverse the values in a list\n",
        "print('\\nTo quickly reverse a list, use negative indexing:')\n",
        "print(opd_list[::])  # What start, stop, and step values are implied here?\n",
        "print(opd_list[::-1])\n",
        "\n"
      ],
      "execution_count": null,
      "outputs": [
        {
          "output_type": "stream",
          "name": "stdout",
          "text": [
            "To skip every other value:\n",
            "[3, 12, 14, 36, 48]\n",
            "\n",
            "What if we want the values in the even indices:\n",
            "[7, 13, 25, 37]\n",
            "\n",
            "To quickly reverse a list, use negative indexing:\n",
            "[3, 7, 12, 13, 14, 25, 36, 37, 48, 59]\n",
            "[59, 48, 37, 36, 25, 14, 13, 12, 7, 3]\n"
          ]
        }
      ]
    },
    {
      "cell_type": "code",
      "metadata": {
        "id": "Mg5P-QmpVMEh",
        "colab": {
          "base_uri": "https://localhost:8080/"
        },
        "outputId": "5c334838-798e-47a4-806f-328430be5931"
      },
      "source": [
        "opd_list = [3, 7, 12, 13, 14, 25, 36, 37, 48, 59]\n",
        "name_list = ['a', 'b', 'c', 'd', 'e', 'f', 'g', 'h', 'i', 'j']\n",
        "\n",
        "# We can use FOR loops to iterate through the elements in a list.\n",
        "for item in opd_list: #We are here iterating over values\n",
        "    if item % 2 != 0: #If item is NOT even\n",
        "        item += 100  # Do something to the element at index i. You could also print(f'Scheduling {item} today')\n",
        "print(opd_list, '\\n')\n",
        "\n",
        "\n",
        "# We can also iterate through a list by index.\n",
        "# Note: Python functions can be nested; they are evaluted from the inner most\n",
        "# function to the outer most function. The function `len()` is given `opd_list` as\n",
        "# an input. This returns the length of opd_list (i.e. 10) which is then used as an\n",
        "# input for the function `range()`. This returns a sequence of integers from 0\n",
        "# to the input value, 10.\n",
        "for i in range(len(opd_list)):  #We are here iterating over indices\n",
        "    if i % 2 == 1: opd_list[i] += 200\n",
        "print(opd_list, '\\n')\n",
        "\n",
        "\n",
        "# Sometimes we need to access both the value and the index of an element,\n",
        "# usually for cross-referencing or indexing into another list. The `enumerate()`\n",
        "# function is a useful trick here:\n",
        "for i, item in enumerate(opd_list):\n",
        "    if 2 < item < 10:\n",
        "        print(f'At index {i}, the value in opd_list is {item}')\n",
        "        print(f'and the corresponding value in name_list is {name_list[i]}.\\n')\n",
        "\n",
        "\n",
        "# Points to ponder:\n",
        "# 1. Why is using `range(len(list))` better than using `range(10)`?\n",
        "#ANS: In case we modify the array (i.e. add elements) range(len(list)) will be automatically updated\n",
        "# 2. Here, we chose to use a FOR loop. Could this be done using a WHILE loop?\n",
        "#ANS: while i<len(opd_list): #Remember to have i++ within the loop\n",
        "# 3. How can we do this in 1 line of code using list comprehension? Say increasing odd values by 100\n",
        "#See https://www.w3schools.com/python/python_lists_comprehension.asp\n",
        "#new_opd_list = [n for n in opd_list] #Simply reproduces opd_list\n",
        "#new_opd_list = [n+100 for n in opd_list if n%2==1 ] #Only picks up odd values+100 in opd_list"
      ],
      "execution_count": null,
      "outputs": [
        {
          "output_type": "stream",
          "name": "stdout",
          "text": [
            "[3, 7, 12, 13, 14, 25, 36, 37, 48, 59] \n",
            "\n",
            "[3, 207, 12, 213, 14, 225, 36, 237, 48, 259] \n",
            "\n",
            "At index 0, the value in opd_list is 3\n",
            "and the corresponding value in name_list is a.\n",
            "\n"
          ]
        }
      ]
    },
    {
      "cell_type": "markdown",
      "metadata": {
        "id": "X5onHx0ak7Gg"
      },
      "source": [
        "\n",
        "\n",
        "---\n",
        "\n"
      ]
    },
    {
      "cell_type": "markdown",
      "metadata": {
        "id": "eB_R5gh4e7nj"
      },
      "source": [
        "#### Problem 1 (mild):\n",
        "\n",
        "Find the smallest number in the list.\n",
        "\n",
        "**Input:**\n",
        "\n",
        "```\n",
        "nums = [4, 16, -21, -49, 3, 821, 8, 27, -2, 74, -81, 0, 5]\n",
        "```\n",
        "\n",
        "**Expected Outputs:**\n",
        "\n",
        "```\n",
        "-81\n",
        "```"
      ]
    },
    {
      "cell_type": "code",
      "metadata": {
        "id": "SEOfF02YfTGC"
      },
      "source": [
        "# Note the keyword `def`. Write a function that RETURNS the smallest number in a list\n",
        "# Hint: Consider using a FOR or WHILE loop\n",
        "#min_val = math.min_value\n",
        "def find_smallest(my_list):\n",
        "    # Enter your code here\n",
        "    #for val in my_list:\n",
        "      #if (val < min_val):\n",
        "\n",
        "\n",
        "    return\n",
        "\n",
        "\n",
        "\n",
        "#------------------------\n",
        "# Now call your function using the list `nums` as a parameter\n",
        "nums = [4, 16, -21, -49, 3, 821, 8, 27, -2, 74, -81, 0, 3]\n",
        "\n"
      ],
      "execution_count": null,
      "outputs": []
    },
    {
      "cell_type": "markdown",
      "metadata": {
        "id": "KZjJmTozltbK"
      },
      "source": [
        "\n",
        "\n",
        "---\n",
        "\n"
      ]
    },
    {
      "cell_type": "markdown",
      "metadata": {
        "id": "ERUwTxhWfU6i"
      },
      "source": [
        "#### Problem 2 (medium):\n",
        "\n",
        "Given two lists, return a list of all elements that are common (without duplicates) between the two.\n",
        "\n",
        "**Input:**\n",
        "\n",
        "```\n",
        "a = [2, 15, 8, 10, 1, 18]\n",
        "b = [6, 2, 10, 19, 8, 4, 2, 20, 2]\n",
        "```\n",
        "\n",
        "**Expected Output:**\n",
        "```\n",
        "[2, 8, 10]\n",
        "```"
      ]
    },
    {
      "cell_type": "code",
      "metadata": {
        "id": "jL83qDV9hcy0"
      },
      "source": [
        "def common_ele(lista, listb):\n",
        "    # Enter your code here\n",
        "\n",
        "\n",
        "\n",
        "    return\n",
        "\n",
        "\n",
        "#------------------------\n",
        "# Now call your function using the lists `a` and `b` as parameters\n",
        "a = [2, 15, 8, 10, 1, 18]\n",
        "b = [6, 2, 10, 19, 8, 4, 2, 20, 2]\n",
        "\n",
        "\n"
      ],
      "execution_count": null,
      "outputs": []
    },
    {
      "cell_type": "markdown",
      "metadata": {
        "id": "JRRhSg0Qlznv"
      },
      "source": [
        "\n",
        "\n",
        "---\n",
        "\n"
      ]
    },
    {
      "cell_type": "markdown",
      "metadata": {
        "id": "SfZuhVazhz9g"
      },
      "source": [
        "#### Problem 3 (spicy):\n",
        "For any given a list of characters, check if it is a palindrome or not.\n",
        "\n",
        "> Palindrome: A palindrome is a word, number, phrase, or other sequence of characters which reads the same backward as forward, such as _madam_, _racecar_.\n",
        "\n",
        "**Input:**\n",
        "\n",
        "```\n",
        "s1 = ['n', 'o', 'o', 'n']\n",
        "s2 = ['k', 'a', 'y', 'a', 'k']\n",
        "s3 = ['p', 'a', 'l', 'i', 'n', 'd', 'r', 'o', 'm', 'e']\n",
        "```\n",
        "\n",
        "**Expected Output:**\n",
        "\n",
        "```\n",
        "noon is a Palindrome\n",
        "kayak is a Palindrome\n",
        "palindrome is not a Palindrome\n",
        "```"
      ]
    },
    {
      "cell_type": "code",
      "metadata": {
        "id": "8vkcn6nehh4Z"
      },
      "source": [
        "# Either a WHILE or FOR loop can work here\n",
        "# Either print or return can work here\n",
        "# To concatenate all the strings in a list, use this: ''.join(my_list_here)\n",
        "def palindrome(input):\n",
        "    # Enter your code here\n",
        "    #reverse = input[::-1]\n",
        "    #if reverse == input:\n",
        "      #return True\n",
        "\n",
        "    return\n",
        "\n",
        "\n",
        "\n",
        "\n",
        "#------------------------\n",
        "# Now call your function using the inputs below\n",
        "s1 = ['n', 'o', 'o', 'n']\n",
        "s2 = ['k', 'a', 'y', 'a', 'k']\n",
        "s3 = ['p', 'a', 'l', 'i', 'n', 'd', 'r', 'o', 'm', 'e']\n",
        "\n",
        "\n",
        "\n",
        "\n",
        "\n"
      ],
      "execution_count": null,
      "outputs": []
    },
    {
      "cell_type": "markdown",
      "metadata": {
        "id": "5VzlmFGRL2cc"
      },
      "source": [
        "---\n",
        "### B.2 Sets\n"
      ]
    },
    {
      "cell_type": "code",
      "metadata": {
        "id": "zlHKHMOyzSDW",
        "colab": {
          "base_uri": "https://localhost:8080/"
        },
        "outputId": "e1622e74-7d7d-4b73-8a77-97679c07395a"
      },
      "source": [
        "# A set is an unordered collection of UNIQUE elements denoted by `{}`. We will demonstrate using medical concepts and their ids accessible at https://browser.ihtsdotools.org/?\n",
        "# Note: Sets are unordered; we cannot use an index to access an item.\n",
        "set1 = {'Laparoscopy', 'Gastritis'} #Recap terms pertaining to the Digestive System.  Laparoscopy=procedure pertaining to the abdominal wall. Gastritis= Disorder of stomach,\n",
        "set2 = {73632009, 4556007, '73632009', '4556007'} #Snomed CT id for Laparoscopy is 73632009 and for Gastritis it is 4556007 .\n",
        "\n",
        "\n",
        "# We can add elements using `.add()`\n",
        "set1.add(73632009)\n",
        "print(f'Added 73632009: {set1}\\n')\n",
        "\n",
        "\n",
        "# We cannot concatenate sets because they are unordered, instead we union sets\n",
        "new_set = set1.union(set2)\n",
        "new_set\n"
      ],
      "execution_count": null,
      "outputs": [
        {
          "output_type": "stream",
          "name": "stdout",
          "text": [
            "Added 73632009: {73632009, 'Gastritis', 'Laparoscopy'}\n",
            "\n"
          ]
        },
        {
          "output_type": "execute_result",
          "data": {
            "text/plain": [
              "{'4556007', 4556007, '73632009', 73632009, 'Gastritis', 'Laparoscopy'}"
            ]
          },
          "metadata": {},
          "execution_count": 23
        }
      ]
    },
    {
      "cell_type": "code",
      "metadata": {
        "colab": {
          "base_uri": "https://localhost:8080/"
        },
        "id": "BI1lwPvSAg4A",
        "outputId": "07956ce9-d94b-4e17-c0df-ed9b1fbae147"
      },
      "source": [
        "# If we know an element is in a set, we can explicitly remove it.\n",
        "if 73632009 in set1:  # Recall the keyword 'in' from Operators\n",
        "    set1.remove(73632009)\n",
        "    print(f'Removed 73632009: {set1}\\n')\n",
        "else:\n",
        "    print('73632009 was not found.\\n')  # Why didn't we find 2021?\n",
        "\n",
        "\n",
        "# Note: The IF/ELSE block above can be condensed using a ternary operator:\n",
        "print (f'Remove 73632009: {set1}\\n' if 73632009 in set1 else '73632009 was not found.\\n')\n",
        "#Note the connection with List comprehension which also allows for such condensation.\n",
        "#https://www.w3schools.com/python/python_lists_comprehension.asp\n",
        "\n",
        "# Or we can randomly remove an element\n",
        "if len(set1) > 0:\n",
        "    var = set1.pop()\n",
        "    print(f'We removed \\'{var}\\' from {set1}', '\\n')\n",
        "\n",
        "\n",
        "# Points to Ponder\n",
        "# 1. Why is it important to check if an element is in a collection before removing it?\n",
        "#ANS: set1.remove(elem) will throw an error if the element is not in the list! Please verify!\n",
        "# 2. Why isn't `2021` found in the set?\n",
        "#ANS: Since it was never added to the set\n",
        "# 3. Why do we need to check the size/length of a collection before performing pop?\n",
        "#ANS: pop removes a random element. But the set must be non-empty, else pop could throw an error\n"
      ],
      "execution_count": null,
      "outputs": [
        {
          "output_type": "stream",
          "name": "stdout",
          "text": [
            "Removed 73632009: {'Gastritis', 'Laparoscopy'}\n",
            "\n",
            "73632009 was not found.\n",
            "\n",
            "We removed 'Gastritis' from {'Laparoscopy'} \n",
            "\n"
          ]
        }
      ]
    },
    {
      "cell_type": "markdown",
      "metadata": {
        "id": "9nqaF3cBbjIG"
      },
      "source": [
        "---\n",
        "#### Problem 1 (mild):\n",
        "\n",
        "Given a list, check if it has duplicates. Hint: Consider type casting. What is a key feature of sets that is different from lists?\n",
        "\n",
        "**Input:**\n",
        "\n",
        "```\n",
        "b = [31, 11, 1, 9, 72, 4, 3, 20, 31]\n",
        "```\n",
        "\n",
        "**Expected Output:**\n",
        "```\n",
        "True\n",
        "```"
      ]
    },
    {
      "cell_type": "code",
      "metadata": {
        "id": "VX_29J8ucKXb"
      },
      "source": [
        "#my_set={}\n",
        "def has_duplicates(list1):\n",
        "    # Enter your code here\n",
        "    #for elem in list1:\n",
        "      #if(elem not in my_set):\n",
        "        #my_set.add(elem)\n",
        "      #else:\n",
        "        #return True\n",
        "    return\n",
        "\n",
        "#------------------------\n",
        "# Now call your function using the inputs below\n",
        "b = [31, 11, 1, 9, 72, 4, 3, 20, 31]\n",
        "\n"
      ],
      "execution_count": null,
      "outputs": []
    },
    {
      "cell_type": "markdown",
      "metadata": {
        "id": "i6vdiO0mU0eR"
      },
      "source": [
        "---\n",
        "#### Problem 2 (medium):\n",
        "The set `S` originally contained numbers from `1` to `n`, where `n` is the length of `nums`.\n",
        "\n",
        "As we were shifting our data from a set to a list, there was a data entry error: one number in `nums` was duplicated thus overwriting the original value. In this case, `3` was duplicated and the value `5` was lost. Note that the size of the set (cardinality) remains the same.\n",
        "\n",
        "Given the erroneous list `nums` and the original data in `s`, can you write a function that identifies the duplicated number and the missing number?\n",
        "\n",
        "**Input:**\n",
        "```\n",
        "s = {1, 2, 3, 4, 5}\n",
        "nums = [1, 2, 3, 3, 4]\n",
        "```\n",
        "**Expected Output:**\n",
        "\n",
        "```\n",
        "3 5\n",
        "```\n",
        "**Explanation**: The first number that you return is the number that got duplicated. In this case it was `3`. Now there will be two '3's and hence displacing the last number in the set. The number that it replaced was `5`.\n",
        "\n",
        "\n",
        "---\n",
        "\n",
        "\n",
        "**Note**: Your function should be a general solution (i.e. it should work on any set with the same type of error)\n",
        "```\n",
        "s = {1, 2, 3, 4, 5, 6, 7, 8, 9, 10, 11}\n",
        "nums = [1, 2, 3, 4, 5, 6, 6, 7, 9, 10, 11]\n",
        "```\n",
        "**Expected Output:**\n",
        "\n",
        "```\n",
        "6 8\n",
        "```\n",
        "\n"
      ]
    },
    {
      "cell_type": "code",
      "metadata": {
        "id": "0WlNDYfVUzkr"
      },
      "source": [
        "# Convert list nums into a another set nums\n",
        "# Find disjoint or s-nums and return the element in s that is missing in nums\n",
        "# To find the duplicated number use a version of Problem 3 of Lists.\n",
        "\n",
        "def fix_nums(set1, list1):\n",
        "    # Enter your code here, Lines 7-8 are placeholders\n",
        "    duplicate = None\n",
        "    displaced = None\n",
        "    #For the duplicated case, logic will be similar to previous exercise, i.e. by creating a new set\n",
        "    #for elem in nums:\n",
        "      #if elem not in s:\n",
        "        #print(f'Missing {elem}')\n",
        "        #displaced = {elem}\n",
        "\n",
        "\n",
        "\n",
        "    # Note: you can return multiple objects\n",
        "    return duplicate, displaced\n",
        "\n",
        "#------------------------\n",
        "# Now call your function using the inputs below\n",
        "s = {1, 2, 3, 4, 5}\n",
        "nums = [1, 2, 3, 3, 4]\n",
        "\n",
        "# Note: you'll need to assign 2 variables to this function\n",
        "dup, dis = fix_nums(s, nums)\n"
      ],
      "execution_count": null,
      "outputs": []
    },
    {
      "cell_type": "markdown",
      "metadata": {
        "id": "6jwH1_L7SAYi"
      },
      "source": [
        "---\n",
        "#### Optional - Problem 3 (extra spicy):\n",
        "(Extension of Problem 2)\n",
        "\n",
        "Given a unordered list containing numbers repeating exactly _**K**_ times and one unique number, find that unique number.\n",
        "\n",
        "For example: for K = 2, and for the given list below\n",
        "```\n",
        "list1 = [5, 6, 9, 6, 10, 5, 10]\n",
        "```\n",
        "`5`, `6`, and `10` repeat exactly `K = 2` times, but `9` is unique. So `9` is the answer.\n",
        "\n",
        "**Input:**\n",
        "```\n",
        "K = 4\n",
        "list1 = [5, 23, 6, 10, 10, 411, 23, 6, 11, 23, 6, 5, 411, 10, 2, 5, 10, 2, 2, 23, 6, 5, 411, 411, 2]\n",
        "```\n",
        "\n",
        "**Expected Output:**\n",
        "```\n",
        "11\n",
        "```\n",
        "\n",
        "> Hint: How can you leverage the fact that duplicate numbers always repeat exactly K times ?"
      ]
    },
    {
      "cell_type": "code",
      "metadata": {
        "id": "r7TSIG0eL7Mi"
      },
      "source": [
        "# K * SUM(SET(LIST1)) - SUM(LIST1) = K-1*UNIQUE_NUMBER\n",
        "# UNIQUE_NUMBER = (K * SUM(SET(LIST1)) - SUM(LIST1)) / K-1\n",
        "#Please note that SUM(SET(LIST1)) etc need to implemented with some elaboration\n",
        "\n",
        "# First find sum of elements in list1\n",
        "# Then convert list1 to a set\n",
        "# Use the inbuilt function \"sum()\" to get the total value of the elements in set\n",
        "# Compute the unique_number using the formula above\n",
        "def find_unique(k, my_list):\n",
        "    # Enter your code here\n",
        "\n",
        "\n",
        "    return\n",
        "\n",
        "#------------------------\n",
        "# Now call your function using the inputs below\n",
        "K = 4\n",
        "list1 = [5, 23, 6, 10, 10, 411, 23, 6, 11, 23, 6, 5, 411, 10, 2, 5, 10, 2, 2, 23, 6, 5, 411, 411, 2]\n",
        "\n",
        "\n",
        "\n"
      ],
      "execution_count": null,
      "outputs": []
    },
    {
      "cell_type": "markdown",
      "metadata": {
        "id": "O5viiMOEcg8J"
      },
      "source": [
        "### B.3 Tuples"
      ]
    },
    {
      "cell_type": "markdown",
      "metadata": {
        "id": "sYALomg3jpuU"
      },
      "source": [
        "#### Problem 1 (mild):\n",
        "\n",
        "Write a function to find the tuple by searching for `n` in a given list.\n",
        "\n",
        "**Input:**\n",
        "```\n",
        "n = 5.12\n",
        "l = [('item1', 1.20), ('item2', 5.12), ('item3', 4.58)]\n",
        "```\n",
        "\n",
        "**Expected Output:**\n",
        "```\n",
        "('item2', 5.12)\n",
        "```"
      ]
    },
    {
      "cell_type": "code",
      "metadata": {
        "id": "Bpx7A_uZkMWM"
      },
      "source": [
        "# Loop over the list `l`\n",
        "# Check if the second element matches n\n",
        "# If it matches return that tuple.\n",
        "\n",
        "def find_n(list1, find_me):\n",
        "\n",
        "    return\n",
        "\n",
        "\n",
        "#------------------------\n",
        "# Now call your function using the inputs below\n",
        "n = 5.12\n",
        "l = [('item1', 1.20), ('item2', 5.12), ('item3', 4.58)]\n",
        "\n",
        "\n"
      ],
      "execution_count": null,
      "outputs": []
    },
    {
      "cell_type": "markdown",
      "metadata": {
        "id": "UNea-QOLkNv_"
      },
      "source": [
        "#### Problem 2 (medium):\n",
        "Write a function to reverse a tuple\n",
        "\n",
        "**Input:**\n",
        "\n",
        "```\n",
        "tup = (13, 24, 1, 5, 18)\n",
        "```\n",
        "\n",
        "**Output:**\n",
        "```\n",
        "tup = (18, 5, 1, 24, 13)\n",
        "```"
      ]
    },
    {
      "cell_type": "code",
      "metadata": {
        "id": "Lx_ukilPkqdZ"
      },
      "source": [
        "# Note: this should work with tuples of any length\n",
        "# Note: a key feature of tuples is that they are IMMUTABLE\n",
        "\n",
        "def flip(tuple1):\n",
        "\n",
        "    return\n",
        "\n",
        "#------------------------\n",
        "# Now call your function using the inputs below\n",
        "tup = (13, 24, 1, 5, 18)\n",
        "\n",
        "\n",
        "\n"
      ],
      "execution_count": null,
      "outputs": []
    },
    {
      "cell_type": "markdown",
      "metadata": {
        "id": "qvImDIYqksTE"
      },
      "source": [
        "#### Optional - Problem 3 (extra spicy):\n",
        "\n",
        "Given a list of integers, and a number, find all good triplets.\n",
        "\n",
        "A triplet `(l[i], l[j], l[k])` is **good** if the following conditions are true:\n",
        "\n",
        "- `0 <= i < j < k <= len(l)`\n",
        "- `|l[i] - l[j]| <= n`\n",
        "- `|l[j] - l[k]| <= n`\n",
        "- `|l[i] - l[k]| <= n`\n",
        "\n",
        "where `n` denotes the absolute value.\n",
        "\n",
        "Return a tuple of all the **good** triples.\n",
        "\n",
        "Input:\n",
        "\n",
        "```\n",
        "n = 3\n",
        "l = [4, 1, 0, 1, 7, 9]\n",
        "```\n",
        "\n",
        "Expected Output:\n",
        "\n",
        "```\n",
        "[(4, 1, 1), (1, 0, 1)]\n",
        "```\n"
      ]
    },
    {
      "cell_type": "code",
      "metadata": {
        "id": "_WijvuT3oEYp"
      },
      "source": [
        "# Use 3 nested for loops with indices i, j, k\n",
        "# Within each loop, access the elements of list list[i], list[j],list[k]\n",
        "# Check if the triplet conditions are met\n",
        "# Identify the good i,j,k combinations and form tuples\n",
        "# Add them to a list to return\n",
        "\n",
        "def good_trip(abs_value, list1):\n",
        "    # Enter your code here\n",
        "\n",
        "\n",
        "    return\n",
        "\n",
        "#------------------------\n",
        "# Now call your function using the inputs below\n",
        "n = 2\n",
        "l = [3, 0, 1, 1, 9, 7]\n",
        "\n",
        "\n"
      ],
      "execution_count": null,
      "outputs": []
    },
    {
      "cell_type": "markdown",
      "metadata": {
        "id": "wraXtFPprRxi"
      },
      "source": [
        "### B.4 Dictionaries"
      ]
    },
    {
      "cell_type": "code",
      "metadata": {
        "id": "yHzai3XNH3VO",
        "colab": {
          "base_uri": "https://localhost:8080/"
        },
        "outputId": "6b8018de-4584-45dd-be75-861a3fe050d3"
      },
      "source": [
        "# A dictionary is an indexed collection of key:value pairs denoted by {}\n",
        "my_dict =\t{   # key: value\n",
        "  \"cry(o)-\": \"Integumentary System\",\n",
        "  \"muscul(o)-\": \"Muscular System\",\n",
        "  \"lymph\": \"Blood, Lymphatic and Immune System\"\n",
        "}\n",
        "\n",
        "# We can access a value by its key\n",
        "x = my_dict[\"lymph\"]\n",
        "print(x)\n",
        "\n",
        "# Values can be changed in a similar manner\n",
        "my_dict[\"lymph\"] = \"Lymphatic and Immune System\"\n",
        "print(my_dict)\n",
        "\n",
        "# And new elements can be added\n",
        "my_dict[\"cardi\"] = \"Cardiovascular System\"\n",
        "print(my_dict)\n",
        "\n",
        "# Or removed... what should be done before removing something from a collection?\n",
        "#Ideally: Should check if \"lymph\" was indeed present as key in my_dict\n",
        "my_dict.pop(\"lymph\")\n",
        "print(my_dict)\n",
        "#Note that in contrast to the set pop which removes an arbitrary element, dictionary pop removes the element specified by the key\n",
        "\n"
      ],
      "execution_count": null,
      "outputs": [
        {
          "output_type": "stream",
          "name": "stdout",
          "text": [
            "Blood, Lymphatic and Immune System\n",
            "{'cry(o)-': 'Integumentary System', 'muscul(o)-': 'Muscular System', 'lymph': 'Lymphatic and Immune System'}\n",
            "{'cry(o)-': 'Integumentary System', 'muscul(o)-': 'Muscular System', 'lymph': 'Lymphatic and Immune System', 'cardi': 'Cardiovascular System'}\n",
            "{'cry(o)-': 'Integumentary System', 'muscul(o)-': 'Muscular System', 'cardi': 'Cardiovascular System'}\n"
          ]
        }
      ]
    },
    {
      "cell_type": "code",
      "metadata": {
        "id": "2OayCWpHKBX0",
        "colab": {
          "base_uri": "https://localhost:8080/"
        },
        "outputId": "63b2f60b-6f5f-4492-f7e8-5bc8936db15a"
      },
      "source": [
        "# Note: For dictionaries, we need to assign 2 variables: the first for the key\n",
        "# and the second for the value.\n",
        "for x, y in my_dict.items():\n",
        "  print(x, y)\n",
        "\n",
        "\n"
      ],
      "execution_count": null,
      "outputs": [
        {
          "output_type": "stream",
          "name": "stdout",
          "text": [
            "cry(o)- Integumentary System\n",
            "muscul(o)- Muscular System\n",
            "cardi Cardiovascular System\n"
          ]
        }
      ]
    },
    {
      "cell_type": "markdown",
      "metadata": {
        "id": "L4Ri7If6rWa4"
      },
      "source": [
        "#### Problem 1 (mild):\n",
        "\n",
        "Convert the two lists into a dictionary.\n",
        "\n",
        "**Input:**\n",
        "```\n",
        "keys = ['alpha', 'beta', 'charlie']\n",
        "values = ['a', 'b', 'c']\n",
        "```\n",
        "**Expected Output:**\n",
        "\n",
        "```\n",
        "d = {'alpha': 'a', 'beta': 'b', 'charlie': 'c'}\n",
        "```\n"
      ]
    },
    {
      "cell_type": "code",
      "metadata": {
        "id": "TDwb9dVmsBPh"
      },
      "source": [
        "# You can use function `zip()` to create key-value tuple pairs\n",
        "# Create an empty dictionary\n",
        "# Use a FOR loop to fill the dictionary with values\n",
        "\n",
        "# No need for a function, just write a code snippet for this question\n",
        "keys = ['alpha', 'beta', 'charlie']\n",
        "values = ['a', 'b', 'c']\n",
        "#for key in keys:\n",
        "  #for value in values:\n",
        "    #my_dict[key] = value\n",
        "\n",
        "\n",
        "\n",
        "\n"
      ],
      "execution_count": null,
      "outputs": []
    },
    {
      "cell_type": "markdown",
      "metadata": {
        "id": "IJxNjmYMsVWf"
      },
      "source": [
        "#### Problem 2 (medium):\n",
        "\n",
        "Write a function `histogram()` that takes a string and builds a frequency listing of the characters contained in it. Represent the frequency listing as a Python dictionary and print the in sorted order on 'key'.\n",
        "\n",
        "Input:\n",
        "```\n",
        "s = \"oneredpaperclip\"\n",
        "```\n",
        "Output:\n",
        "```\n",
        "{'o': 1, 'n': 1, 'e': 3, 'r': 2, 'd': 1, 'p': 3, 'a': 1, 'c': 1, 'l': 1, 'i': 1}\n",
        "```"
      ]
    },
    {
      "cell_type": "code",
      "metadata": {
        "id": "I0rSPgPZtDFD"
      },
      "source": [
        "# Collect all characters from string\n",
        "# Count them\n",
        "# Create the dictionary\n",
        "# Enter the keys as letters and numbers as values.\n",
        "\n",
        "def histogram(string1):\n",
        "    # Enter your code here\n",
        "    #Dictionary with key as character and count as value\n",
        "\n",
        "    return\n",
        "\n",
        "\n",
        "#------------------------\n",
        "# Now call your function using the input below\n",
        "s = \"oneredpaperclip\"\n",
        "\n",
        "\n",
        "\n",
        "\n"
      ],
      "execution_count": null,
      "outputs": []
    },
    {
      "cell_type": "markdown",
      "metadata": {
        "id": "xCefsGn2TTee"
      },
      "source": [
        "\n",
        "\n",
        "---\n",
        "\n",
        "\n",
        "# Python 101: Putting it all together\n",
        "\n",
        "\n",
        "---\n",
        "\n",
        "\n",
        "We know that Python:\n",
        "\n",
        "\n",
        "1.   is object-oriented\n",
        "2.   encourages code modularity\n",
        "3.   allows dynamic typing\n",
        "4.   allows dynamic binding\n",
        "\n",
        "**But what does all this really mean in practice?**\n"
      ]
    },
    {
      "cell_type": "code",
      "metadata": {
        "id": "ttg5YC20TH8a",
        "colab": {
          "base_uri": "https://localhost:8080/"
        },
        "outputId": "4f9b7c5b-9479-4497-93d7-141aa81bf53b"
      },
      "source": [
        "# Almost everything in Python is an object, meaning variables, function, data\n",
        "# structures, etc. can each be treated as one 'blob' without worrying about its\n",
        "# parts. The inputs set_of_ids, dblist, and the drug_string1 and drug_string2 are all objects.\n",
        "#They are mostly constructed based on some drugs and their ids from https://go.drugbank.com - a Clinical Drug Database\n",
        "#Use of list/set comprehension. Creating set of integers that are 3 times those integers in 100,10000 in gaps of 7 provided they are divisible by 6\n",
        "#https://www.w3schools.com/python/python_lists_comprehension.asp\n",
        "set_of_ids = {n * 3 for n in range(100, 10000, 7) if n % 6 == 0}\n",
        "#Again list comprehension - prefixing each id in set_of_ids with string 'DB' by converting each into a string\n",
        "dblist = ['DB' + str(m) for m in set_of_ids]\n",
        "\n",
        "#Paraldehyde is a central nervous system depressant previously used to control convulsions due to various clinical causes, including tetanus, status epilepticus, and convulsive drugs.\n",
        "drug_string1 = 'paraldehyde'\n",
        "#Lexxel is a is a calcium channel blocker used to treat hypertension. (https://go.drugbank.com/drugs/DB01023)\n",
        "drug_string2 = 'lexxel'\n",
        " #Carbocisteine is a expectorant mucolytic used in the relief of respiratory of COPD and other conditions associated with increased mucus viscosity.\n",
        "s1 = ['c', 'a', 'r', 'b', 'o', 'c', 'i', 's', 't', 'e', 'i', 'n', 'e']\n",
        "#Tylenol most commonly taken analgesic worldwide and is recommended as first-line therapy in pain conditions by the World Health Organization (WHO).\n",
        "s2 = ['t', 'y', 'l', 'e', 'n', 'o', 'l']\n",
        "#Xanax (alprazolam), a drug used to treat anxiety disorders\n",
        "s3= ['x', 'a', 'n', 'a', 'x']\n",
        "\n",
        "# We can then create a list (another object) and populate it with these datasets\n",
        "# without needing to consider the individual elements of each.\n",
        "assorted_inputs = [set_of_ids, dblist, drug_string1, drug_string2, s1, s2, s3]\n",
        "\n",
        "# An example of code modularity is grouping all the palindrome code into a single\n",
        "# function. Here's a more complex palindrome function that can handle multiple\n",
        "# input types (including the three types, viz., set, strings and lists of characters above):\n",
        "def palindrome(input):\n",
        "    exit_flag = False\n",
        "    #print(input)\n",
        "    for item in input:  #Will work even if input is a set as in set_of_ids, list as in dblist etc\n",
        "                        #Homework: What will item correspond to if input is a dictionary?\n",
        "        if type(item) is not str:  # Dynamic typing allows conversion between data structures\n",
        "            item = str(item)  #In the example above, this will be used for set_of_ids\n",
        "        if len(item) == 1:\n",
        "            item, exit_flag = input, True  # Dynamic binding allows (re-)assignment \"on-the-fly\"\n",
        "        if item == item[::-1]: #What is item is a string itself? What will this do?\n",
        "            print(item)\n",
        "            #https://www.w3schools.com/python/ref_string_join.asp: Join all items in a tuple into a string, using no separator:\n",
        "            print(item if type(item) is str else ''.join(item), 'is a Palindrome')\n",
        "        if exit_flag: break\n",
        "    print()\n",
        "\n",
        "# Putting this all together, we can write flexible code that scales efficiently\n",
        "# with data. The list `assorted_inputs` could contain hundreds of different data points.\n",
        "# Instead of having to write code explicitly for each input, we just need 3 lines.\n",
        "for n, input in enumerate(assorted_inputs):\n",
        "    print(f'Dataset {n+1} of type {type(input)} contains {len(input)} items')\n",
        "    palindrome(input)\n",
        "\n",
        "\n",
        "# In the next modules, we'll cover advanced data structures that scale even more\n",
        "# efficiently with \"Big Data\" (e.g. NumPy arrays and Pandas DataFrames).\n",
        "\n"
      ],
      "execution_count": null,
      "outputs": [
        {
          "output_type": "stream",
          "name": "stdout",
          "text": [
            "Dataset 1 of type <class 'set'> contains 236 items\n",
            "20502\n",
            "20502 is a Palindrome\n",
            "\n",
            "Dataset 2 of type <class 'list'> contains 236 items\n",
            "\n",
            "Dataset 3 of type <class 'str'> contains 11 items\n",
            "\n",
            "Dataset 4 of type <class 'str'> contains 6 items\n",
            "lexxel\n",
            "lexxel is a Palindrome\n",
            "\n",
            "Dataset 5 of type <class 'list'> contains 13 items\n",
            "\n",
            "Dataset 6 of type <class 'list'> contains 7 items\n",
            "\n",
            "Dataset 7 of type <class 'list'> contains 5 items\n",
            "['x', 'a', 'n', 'a', 'x']\n",
            "xanax is a Palindrome\n",
            "\n"
          ]
        }
      ]
    }
  ]
}